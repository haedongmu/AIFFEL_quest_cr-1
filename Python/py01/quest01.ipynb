{
  "nbformat": 4,
  "nbformat_minor": 0,
  "metadata": {
    "colab": {
      "provenance": [],
      "include_colab_link": true
    },
    "kernelspec": {
      "name": "python3",
      "display_name": "Python 3"
    },
    "language_info": {
      "name": "python"
    }
  },
  "cells": [
    {
      "cell_type": "markdown",
      "metadata": {
        "id": "view-in-github",
        "colab_type": "text"
      },
      "source": [
        "<a href=\"https://colab.research.google.com/github/kokojay91/AIFFEL_quest_cr/blob/main/Python/py01/quest01.ipynb\" target=\"_parent\"><img src=\"https://colab.research.google.com/assets/colab-badge.svg\" alt=\"Open In Colab\"/></a>"
      ]
    },
    {
      "cell_type": "code",
      "execution_count": null,
      "metadata": {
        "id": "DPRlGu-9Enmd",
        "colab": {
          "base_uri": "https://localhost:8080/"
        },
        "outputId": "24e49c10-89d7-4707-9a0b-d09a6b1d0b06"
      },
      "outputs": [
        {
          "output_type": "stream",
          "name": "stdout",
          "text": [
            "원하시는 단어를 입력하세요. 해당 단어가 회문인지 확인 하겠습니다\n",
            "원하시는 단어를 입력하세요:기러기\n",
            "회문이 맞습니다\n"
          ]
        }
      ],
      "source": [
        "\n",
        "\n",
        "print (\"원하시는 단어를 입력하세요. 해당 단어가 회문인지 확인 하겠습니다\")\n",
        "text = input('원하시는 단어를 입력하세요:')\n",
        "oritext = text\n",
        "retext = text[::-1]\n",
        "if oritext == retext :\n",
        " print(\"회문이 맞습니다\")\n",
        "elif oritext != retext :\n",
        "  print (\"회문이 아닙니다!\")\n"
      ]
    },
    {
      "cell_type": "code",
      "source": [],
      "metadata": {
        "id": "-QTBxcnEay_J"
      },
      "execution_count": null,
      "outputs": []
    }
  ]
}

코더 : 최창윤
네비게이터 : 이지선

아이펠 LMS 노드 어디까지 파봐썬과 자란다 파이썬을 참고

코더가 기본적인 코딩
if, else를 이용한 조건문을 기준으로 진행
문자열 뒤집는 법에 대한 어려움이 있어서 노드 참고하여
문자열 역순 코드를 찾아 확인해줌



